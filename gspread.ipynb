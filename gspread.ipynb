{
 "cells": [
  {
   "cell_type": "code",
   "execution_count": 1,
   "id": "1d06c935",
   "metadata": {},
   "outputs": [],
   "source": [
    "import gspread\n",
    "from oauth2client.service_account import ServiceAccountCredentials"
   ]
  },
  {
   "cell_type": "code",
   "execution_count": 2,
   "id": "cb876370",
   "metadata": {},
   "outputs": [],
   "source": [
    "scope = [\n",
    "'https://spreadsheets.google.com/feeds',\n",
    "'https://www.googleapis.com/auth/drive',\n",
    "]\n",
    "\n",
    "json_file_name = 'lustrous-bay-331215-1a3024ff37a8.json'\n",
    "\n",
    "credentials = ServiceAccountCredentials.from_json_keyfile_name(json_file_name, scope)\n",
    "gc = gspread.authorize(credentials)"
   ]
  },
  {
   "cell_type": "markdown",
   "id": "073280de",
   "metadata": {},
   "source": [
    "https://console.cloud.google.com/apis/api/sheets.googleapis.com/overview?project=lustrous-bay-331215"
   ]
  },
  {
   "cell_type": "code",
   "execution_count": 9,
   "id": "422b976a",
   "metadata": {},
   "outputs": [],
   "source": [
    "spreadsheet_url = 'https://docs.google.com/spreadsheets/d/174MSeH75SSaIHtGJWsBbJlGITRPBohSHD_39Fd07mLo/edit#gid=0'\n",
    "\n",
    "# 스프레스시트 문서 가져오기 \n",
    "doc = gc.open_by_url(spreadsheet_url)"
   ]
  },
  {
   "cell_type": "code",
   "execution_count": 10,
   "id": "d9547c4f",
   "metadata": {
    "scrolled": true
   },
   "outputs": [
    {
     "data": {
      "text/plain": [
       "<Spreadsheet 'orders_sample' id:174MSeH75SSaIHtGJWsBbJlGITRPBohSHD_39Fd07mLo>"
      ]
     },
     "execution_count": 10,
     "metadata": {},
     "output_type": "execute_result"
    }
   ],
   "source": [
    "doc"
   ]
  },
  {
   "cell_type": "code",
   "execution_count": 11,
   "id": "e1771b3e",
   "metadata": {},
   "outputs": [],
   "source": [
    "# 시트 선택하기\n",
    "worksheet = doc.get_worksheet(0)\n",
    "#worksheet = doc.worksheet('Sheet1')"
   ]
  },
  {
   "cell_type": "code",
   "execution_count": 16,
   "id": "335a08b9",
   "metadata": {},
   "outputs": [],
   "source": [
    "val = worksheet.cell(1, 2).value"
   ]
  },
  {
   "cell_type": "code",
   "execution_count": 17,
   "id": "d6e9cb49",
   "metadata": {},
   "outputs": [
    {
     "data": {
      "text/plain": [
       "'payment_id'"
      ]
     },
     "execution_count": 17,
     "metadata": {},
     "output_type": "execute_result"
    }
   ],
   "source": [
    "val"
   ]
  },
  {
   "cell_type": "code",
   "execution_count": 21,
   "id": "5293a33a",
   "metadata": {},
   "outputs": [
    {
     "data": {
      "text/plain": [
       "[['id',\n",
       "  'payment_id',\n",
       "  'seller_id',\n",
       "  'buyer_id',\n",
       "  'brand_id',\n",
       "  'category_id',\n",
       "  'item_id',\n",
       "  'quantity',\n",
       "  'total_amount',\n",
       "  'is_to_me',\n",
       "  'paid_at'],\n",
       " ['804834082',\n",
       "  '701992360',\n",
       "  '1953',\n",
       "  '24478242',\n",
       "  '65',\n",
       "  '707',\n",
       "  '714816',\n",
       "  '1',\n",
       "  '56900',\n",
       "  'FALSE',\n",
       "  '2020-03-01 0:00:06'],\n",
       " ['804834083',\n",
       "  '701992361',\n",
       "  '14175',\n",
       "  '8372924',\n",
       "  '41187',\n",
       "  '3452',\n",
       "  '981660',\n",
       "  '1',\n",
       "  '42500',\n",
       "  'FALSE',\n",
       "  '2020-03-01 0:00:22'],\n",
       " ['804834084',\n",
       "  '701992362',\n",
       "  '712',\n",
       "  '63955039',\n",
       "  '1120',\n",
       "  '5532',\n",
       "  '1245658',\n",
       "  '1',\n",
       "  '12150',\n",
       "  'FALSE',\n",
       "  '2020-03-01 0:00:06'],\n",
       " ['804834086',\n",
       "  '701992364',\n",
       "  '763',\n",
       "  '4164568',\n",
       "  '1914',\n",
       "  '8200',\n",
       "  '1114653',\n",
       "  '1',\n",
       "  '19000',\n",
       "  'FALSE',\n",
       "  '2020-03-01 0:00:55'],\n",
       " ['804834089',\n",
       "  '701992367',\n",
       "  '704',\n",
       "  '3197923',\n",
       "  '2820',\n",
       "  '7523',\n",
       "  '341636',\n",
       "  '1',\n",
       "  '34900',\n",
       "  'FALSE',\n",
       "  '2020-03-01 0:00:05'],\n",
       " ['804834092',\n",
       "  '701992369',\n",
       "  '623',\n",
       "  '4520639',\n",
       "  '2071',\n",
       "  '8250',\n",
       "  '1055792',\n",
       "  '1',\n",
       "  '34000',\n",
       "  'FALSE',\n",
       "  '2020-03-01 0:00:10'],\n",
       " ['804834093',\n",
       "  '701992370',\n",
       "  '763',\n",
       "  '37048341',\n",
       "  '1914',\n",
       "  '8200',\n",
       "  '1114653',\n",
       "  '1',\n",
       "  '19000',\n",
       "  'FALSE',\n",
       "  '2020-03-01 0:00:12'],\n",
       " ['804834094',\n",
       "  '701992371',\n",
       "  '6151',\n",
       "  '85554059',\n",
       "  '43',\n",
       "  '8305',\n",
       "  '1105657',\n",
       "  '1',\n",
       "  '37800',\n",
       "  'FALSE',\n",
       "  '2020-03-01 0:01:01'],\n",
       " ['804834095',\n",
       "  '701992372',\n",
       "  '763',\n",
       "  '57912487',\n",
       "  '1914',\n",
       "  '8200',\n",
       "  '1114966',\n",
       "  '1',\n",
       "  '24000',\n",
       "  'FALSE',\n",
       "  '2020-03-01 0:00:15'],\n",
       " ['804834097',\n",
       "  '701992374',\n",
       "  '3022',\n",
       "  '5736185',\n",
       "  '37095',\n",
       "  '8200',\n",
       "  '1237714',\n",
       "  '1',\n",
       "  '23000',\n",
       "  'FALSE',\n",
       "  '2020-03-01 0:00:18']]"
      ]
     },
     "execution_count": 21,
     "metadata": {},
     "output_type": "execute_result"
    }
   ],
   "source": [
    "#Getting All Values From a Worksheet as a List of Lists\n",
    "list_of_lists = worksheet.get_all_values()\n",
    "list_of_lists"
   ]
  },
  {
   "cell_type": "code",
   "execution_count": 23,
   "id": "4005ffe9",
   "metadata": {},
   "outputs": [
    {
     "data": {
      "text/plain": [
       "[{'id': 804834082,\n",
       "  'payment_id': 701992360,\n",
       "  'seller_id': 1953,\n",
       "  'buyer_id': 24478242,\n",
       "  'brand_id': 65,\n",
       "  'category_id': 707,\n",
       "  'item_id': 714816,\n",
       "  'quantity': 1,\n",
       "  'total_amount': 56900,\n",
       "  'is_to_me': 'FALSE',\n",
       "  'paid_at': '2020-03-01 0:00:06'},\n",
       " {'id': 804834083,\n",
       "  'payment_id': 701992361,\n",
       "  'seller_id': 14175,\n",
       "  'buyer_id': 8372924,\n",
       "  'brand_id': 41187,\n",
       "  'category_id': 3452,\n",
       "  'item_id': 981660,\n",
       "  'quantity': 1,\n",
       "  'total_amount': 42500,\n",
       "  'is_to_me': 'FALSE',\n",
       "  'paid_at': '2020-03-01 0:00:22'},\n",
       " {'id': 804834084,\n",
       "  'payment_id': 701992362,\n",
       "  'seller_id': 712,\n",
       "  'buyer_id': 63955039,\n",
       "  'brand_id': 1120,\n",
       "  'category_id': 5532,\n",
       "  'item_id': 1245658,\n",
       "  'quantity': 1,\n",
       "  'total_amount': 12150,\n",
       "  'is_to_me': 'FALSE',\n",
       "  'paid_at': '2020-03-01 0:00:06'},\n",
       " {'id': 804834086,\n",
       "  'payment_id': 701992364,\n",
       "  'seller_id': 763,\n",
       "  'buyer_id': 4164568,\n",
       "  'brand_id': 1914,\n",
       "  'category_id': 8200,\n",
       "  'item_id': 1114653,\n",
       "  'quantity': 1,\n",
       "  'total_amount': 19000,\n",
       "  'is_to_me': 'FALSE',\n",
       "  'paid_at': '2020-03-01 0:00:55'},\n",
       " {'id': 804834089,\n",
       "  'payment_id': 701992367,\n",
       "  'seller_id': 704,\n",
       "  'buyer_id': 3197923,\n",
       "  'brand_id': 2820,\n",
       "  'category_id': 7523,\n",
       "  'item_id': 341636,\n",
       "  'quantity': 1,\n",
       "  'total_amount': 34900,\n",
       "  'is_to_me': 'FALSE',\n",
       "  'paid_at': '2020-03-01 0:00:05'},\n",
       " {'id': 804834092,\n",
       "  'payment_id': 701992369,\n",
       "  'seller_id': 623,\n",
       "  'buyer_id': 4520639,\n",
       "  'brand_id': 2071,\n",
       "  'category_id': 8250,\n",
       "  'item_id': 1055792,\n",
       "  'quantity': 1,\n",
       "  'total_amount': 34000,\n",
       "  'is_to_me': 'FALSE',\n",
       "  'paid_at': '2020-03-01 0:00:10'},\n",
       " {'id': 804834093,\n",
       "  'payment_id': 701992370,\n",
       "  'seller_id': 763,\n",
       "  'buyer_id': 37048341,\n",
       "  'brand_id': 1914,\n",
       "  'category_id': 8200,\n",
       "  'item_id': 1114653,\n",
       "  'quantity': 1,\n",
       "  'total_amount': 19000,\n",
       "  'is_to_me': 'FALSE',\n",
       "  'paid_at': '2020-03-01 0:00:12'},\n",
       " {'id': 804834094,\n",
       "  'payment_id': 701992371,\n",
       "  'seller_id': 6151,\n",
       "  'buyer_id': 85554059,\n",
       "  'brand_id': 43,\n",
       "  'category_id': 8305,\n",
       "  'item_id': 1105657,\n",
       "  'quantity': 1,\n",
       "  'total_amount': 37800,\n",
       "  'is_to_me': 'FALSE',\n",
       "  'paid_at': '2020-03-01 0:01:01'},\n",
       " {'id': 804834095,\n",
       "  'payment_id': 701992372,\n",
       "  'seller_id': 763,\n",
       "  'buyer_id': 57912487,\n",
       "  'brand_id': 1914,\n",
       "  'category_id': 8200,\n",
       "  'item_id': 1114966,\n",
       "  'quantity': 1,\n",
       "  'total_amount': 24000,\n",
       "  'is_to_me': 'FALSE',\n",
       "  'paid_at': '2020-03-01 0:00:15'},\n",
       " {'id': 804834097,\n",
       "  'payment_id': 701992374,\n",
       "  'seller_id': 3022,\n",
       "  'buyer_id': 5736185,\n",
       "  'brand_id': 37095,\n",
       "  'category_id': 8200,\n",
       "  'item_id': 1237714,\n",
       "  'quantity': 1,\n",
       "  'total_amount': 23000,\n",
       "  'is_to_me': 'FALSE',\n",
       "  'paid_at': '2020-03-01 0:00:18'}]"
      ]
     },
     "execution_count": 23,
     "metadata": {},
     "output_type": "execute_result"
    }
   ],
   "source": [
    "#Getting All Values From a Worksheet as a List of Dictionaries\n",
    "list_of_dicts = worksheet.get_all_records()\n",
    "list_of_dicts "
   ]
  },
  {
   "cell_type": "code",
   "execution_count": null,
   "id": "76800c67",
   "metadata": {},
   "outputs": [],
   "source": []
  }
 ],
 "metadata": {
  "kernelspec": {
   "display_name": "Python 3 (ipykernel)",
   "language": "python",
   "name": "python3"
  },
  "language_info": {
   "codemirror_mode": {
    "name": "ipython",
    "version": 3
   },
   "file_extension": ".py",
   "mimetype": "text/x-python",
   "name": "python",
   "nbconvert_exporter": "python",
   "pygments_lexer": "ipython3",
   "version": "3.9.7"
  }
 },
 "nbformat": 4,
 "nbformat_minor": 5
}
