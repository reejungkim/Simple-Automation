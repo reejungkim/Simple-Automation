{
 "cells": [
  {
   "cell_type": "markdown",
   "metadata": {},
   "source": [
    "https://plotly.com/python/v3/pdf-reports/"
   ]
  },
  {
   "cell_type": "markdown",
   "metadata": {},
   "source": [
    "!pip install xhtml2pdf"
   ]
  },
  {
   "cell_type": "code",
   "execution_count": 1,
   "metadata": {},
   "outputs": [],
   "source": [
    "#import pdfkit\n",
    "from xhtml2pdf import pisa  "
   ]
  },
  {
   "cell_type": "code",
   "execution_count": 2,
   "metadata": {},
   "outputs": [],
   "source": [
    "\n",
    "# The public plotly graphs to include in the report. These can also be generated with `py.plot(figure, filename)`\n",
    "graphs = [\n",
    "    'https://plotly.com/~christopherp/308',\n",
    "    'https://plotly.com/~christopherp/306',\n",
    "    'https://plotly.com/~christopherp/300',\n",
    "    'https://plotly.com/~christopherp/296'\n",
    "]"
   ]
  },
  {
   "cell_type": "code",
   "execution_count": 3,
   "metadata": {},
   "outputs": [],
   "source": [
    "from IPython.display import display, HTML\n",
    "\n",
    "def report_block_template(report_type, graph_url, caption=''):\n",
    "    if report_type == 'interactive':\n",
    "        graph_block = '<iframe style=\"border: none;\" src=\"{graph_url}.embed\" width=\"100%\" height=\"600px\"></iframe>'\n",
    "    elif report_type == 'static':\n",
    "        graph_block = (''\n",
    "            '<a href=\"{graph_url}\" target=\"_blank\">' # Open the interactive graph when you click on the image\n",
    "                '<img style=\"height: 400px;\" src=\"{graph_url}.png\">'\n",
    "            '</a>')\n",
    "\n",
    "    report_block = ('' +\n",
    "        graph_block +\n",
    "        '{caption}' + # Optional caption to include below the graph\n",
    "        '<br>'      + # Line break\n",
    "        '<a href=\"{graph_url}\" style=\"color: rgb(190,190,190); text-decoration: none; font-weight: 200;\" target=\"_blank\">'+\n",
    "            'Click to comment and see the interactive graph' + # Direct readers to Plotly for commenting, interactive graph\n",
    "        '</a>' +\n",
    "        '<br>' +\n",
    "        '<hr>') # horizontal line                       \n",
    "\n",
    "    return report_block.format(graph_url=graph_url, caption=caption)"
   ]
  },
  {
   "cell_type": "code",
   "execution_count": 4,
   "metadata": {},
   "outputs": [],
   "source": [
    "interactive_report = ''\n",
    "static_report = ''\n",
    "\n",
    "for graph_url in graphs:\n",
    "    _static_block = report_block_template('static', graph_url, caption='')\n",
    "    _interactive_block = report_block_template('interactive', graph_url, caption='')\n",
    "\n",
    "    static_report += _static_block\n",
    "    interactive_report += _interactive_block"
   ]
  },
  {
   "cell_type": "code",
   "execution_count": 5,
   "metadata": {},
   "outputs": [
    {
     "data": {
      "text/plain": [
       "'<a href=\"https://plotly.com/~christopherp/308\" target=\"_blank\"><img style=\"height: 400px;\" src=\"https://plotly.com/~christopherp/308.png\"></a><br><a href=\"https://plotly.com/~christopherp/308\" style=\"color: rgb(190,190,190); text-decoration: none; font-weight: 200;\" target=\"_blank\">Click to comment and see the interactive graph</a><br><hr><a href=\"https://plotly.com/~christopherp/306\" target=\"_blank\"><img style=\"height: 400px;\" src=\"https://plotly.com/~christopherp/306.png\"></a><br><a href=\"https://plotly.com/~christopherp/306\" style=\"color: rgb(190,190,190); text-decoration: none; font-weight: 200;\" target=\"_blank\">Click to comment and see the interactive graph</a><br><hr><a href=\"https://plotly.com/~christopherp/300\" target=\"_blank\"><img style=\"height: 400px;\" src=\"https://plotly.com/~christopherp/300.png\"></a><br><a href=\"https://plotly.com/~christopherp/300\" style=\"color: rgb(190,190,190); text-decoration: none; font-weight: 200;\" target=\"_blank\">Click to comment and see the interactive graph</a><br><hr><a href=\"https://plotly.com/~christopherp/296\" target=\"_blank\"><img style=\"height: 400px;\" src=\"https://plotly.com/~christopherp/296.png\"></a><br><a href=\"https://plotly.com/~christopherp/296\" style=\"color: rgb(190,190,190); text-decoration: none; font-weight: 200;\" target=\"_blank\">Click to comment and see the interactive graph</a><br><hr>'"
      ]
     },
     "execution_count": 5,
     "metadata": {},
     "output_type": "execute_result"
    }
   ],
   "source": [
    "static_report"
   ]
  },
  {
   "cell_type": "code",
   "execution_count": 6,
   "metadata": {},
   "outputs": [
    {
     "data": {
      "text/plain": [
       "'<iframe style=\"border: none;\" src=\"https://plotly.com/~christopherp/308.embed\" width=\"100%\" height=\"600px\"></iframe><br><a href=\"https://plotly.com/~christopherp/308\" style=\"color: rgb(190,190,190); text-decoration: none; font-weight: 200;\" target=\"_blank\">Click to comment and see the interactive graph</a><br><hr><iframe style=\"border: none;\" src=\"https://plotly.com/~christopherp/306.embed\" width=\"100%\" height=\"600px\"></iframe><br><a href=\"https://plotly.com/~christopherp/306\" style=\"color: rgb(190,190,190); text-decoration: none; font-weight: 200;\" target=\"_blank\">Click to comment and see the interactive graph</a><br><hr><iframe style=\"border: none;\" src=\"https://plotly.com/~christopherp/300.embed\" width=\"100%\" height=\"600px\"></iframe><br><a href=\"https://plotly.com/~christopherp/300\" style=\"color: rgb(190,190,190); text-decoration: none; font-weight: 200;\" target=\"_blank\">Click to comment and see the interactive graph</a><br><hr><iframe style=\"border: none;\" src=\"https://plotly.com/~christopherp/296.embed\" width=\"100%\" height=\"600px\"></iframe><br><a href=\"https://plotly.com/~christopherp/296\" style=\"color: rgb(190,190,190); text-decoration: none; font-weight: 200;\" target=\"_blank\">Click to comment and see the interactive graph</a><br><hr>'"
      ]
     },
     "execution_count": 6,
     "metadata": {},
     "output_type": "execute_result"
    }
   ],
   "source": [
    "interactive_report"
   ]
  },
  {
   "cell_type": "code",
   "execution_count": 7,
   "metadata": {},
   "outputs": [
    {
     "data": {
      "text/html": [
       "<iframe style=\"border: none;\" src=\"https://plotly.com/~christopherp/308.embed\" width=\"100%\" height=\"600px\"></iframe><br><a href=\"https://plotly.com/~christopherp/308\" style=\"color: rgb(190,190,190); text-decoration: none; font-weight: 200;\" target=\"_blank\">Click to comment and see the interactive graph</a><br><hr><iframe style=\"border: none;\" src=\"https://plotly.com/~christopherp/306.embed\" width=\"100%\" height=\"600px\"></iframe><br><a href=\"https://plotly.com/~christopherp/306\" style=\"color: rgb(190,190,190); text-decoration: none; font-weight: 200;\" target=\"_blank\">Click to comment and see the interactive graph</a><br><hr><iframe style=\"border: none;\" src=\"https://plotly.com/~christopherp/300.embed\" width=\"100%\" height=\"600px\"></iframe><br><a href=\"https://plotly.com/~christopherp/300\" style=\"color: rgb(190,190,190); text-decoration: none; font-weight: 200;\" target=\"_blank\">Click to comment and see the interactive graph</a><br><hr><iframe style=\"border: none;\" src=\"https://plotly.com/~christopherp/296.embed\" width=\"100%\" height=\"600px\"></iframe><br><a href=\"https://plotly.com/~christopherp/296\" style=\"color: rgb(190,190,190); text-decoration: none; font-weight: 200;\" target=\"_blank\">Click to comment and see the interactive graph</a><br><hr>"
      ],
      "text/plain": [
       "<IPython.core.display.HTML object>"
      ]
     },
     "metadata": {},
     "output_type": "display_data"
    }
   ],
   "source": [
    "display(HTML(interactive_report))"
   ]
  },
  {
   "cell_type": "code",
   "execution_count": 8,
   "metadata": {},
   "outputs": [
    {
     "data": {
      "text/html": [
       "<a href=\"https://plotly.com/~christopherp/308\" target=\"_blank\"><img style=\"height: 400px;\" src=\"https://plotly.com/~christopherp/308.png\"></a><br><a href=\"https://plotly.com/~christopherp/308\" style=\"color: rgb(190,190,190); text-decoration: none; font-weight: 200;\" target=\"_blank\">Click to comment and see the interactive graph</a><br><hr><a href=\"https://plotly.com/~christopherp/306\" target=\"_blank\"><img style=\"height: 400px;\" src=\"https://plotly.com/~christopherp/306.png\"></a><br><a href=\"https://plotly.com/~christopherp/306\" style=\"color: rgb(190,190,190); text-decoration: none; font-weight: 200;\" target=\"_blank\">Click to comment and see the interactive graph</a><br><hr><a href=\"https://plotly.com/~christopherp/300\" target=\"_blank\"><img style=\"height: 400px;\" src=\"https://plotly.com/~christopherp/300.png\"></a><br><a href=\"https://plotly.com/~christopherp/300\" style=\"color: rgb(190,190,190); text-decoration: none; font-weight: 200;\" target=\"_blank\">Click to comment and see the interactive graph</a><br><hr><a href=\"https://plotly.com/~christopherp/296\" target=\"_blank\"><img style=\"height: 400px;\" src=\"https://plotly.com/~christopherp/296.png\"></a><br><a href=\"https://plotly.com/~christopherp/296\" style=\"color: rgb(190,190,190); text-decoration: none; font-weight: 200;\" target=\"_blank\">Click to comment and see the interactive graph</a><br><hr>"
      ],
      "text/plain": [
       "<IPython.core.display.HTML object>"
      ]
     },
     "metadata": {},
     "output_type": "display_data"
    }
   ],
   "source": [
    "display(HTML(static_report))"
   ]
  },
  {
   "cell_type": "code",
   "execution_count": 9,
   "metadata": {},
   "outputs": [],
   "source": [
    "from xhtml2pdf import pisa             # import python module\n",
    "\n",
    "# Utility function\n",
    "def convert_html_to_pdf(source_html, output_filename):\n",
    "    # open output file for writing (truncated binary)\n",
    "    result_file = open(output_filename, \"w+b\")\n",
    "\n",
    "    # convert HTML to PDF\n",
    "    pisa_status = pisa.CreatePDF(\n",
    "            source_html,                # the HTML to convert\n",
    "            dest=result_file)           # file handle to recieve result\n",
    "\n",
    "    # close output file\n",
    "    result_file.close()                 # close output file\n",
    "\n",
    "    # return True on success and False on errors\n",
    "    return pisa_status.err"
   ]
  },
  {
   "cell_type": "code",
   "execution_count": 10,
   "metadata": {},
   "outputs": [
    {
     "data": {
      "text/plain": [
       "0"
      ]
     },
     "execution_count": 10,
     "metadata": {},
     "output_type": "execute_result"
    }
   ],
   "source": [
    "convert_html_to_pdf(static_report, 'report.pdf')"
   ]
  },
  {
   "cell_type": "code",
   "execution_count": 11,
   "metadata": {},
   "outputs": [],
   "source": [
    "! open report.pdf"
   ]
  },
  {
   "cell_type": "code",
   "execution_count": null,
   "metadata": {},
   "outputs": [],
   "source": []
  }
 ],
 "metadata": {
  "kernelspec": {
   "display_name": "Python 3 (ipykernel)",
   "language": "python",
   "name": "python3"
  },
  "language_info": {
   "codemirror_mode": {
    "name": "ipython",
    "version": 3
   },
   "file_extension": ".py",
   "mimetype": "text/x-python",
   "name": "python",
   "nbconvert_exporter": "python",
   "pygments_lexer": "ipython3",
   "version": "3.7.11"
  }
 },
 "nbformat": 4,
 "nbformat_minor": 4
}
